{
  "cells": [
    {
      "cell_type": "markdown",
      "metadata": {
        "id": "view-in-github",
        "colab_type": "text"
      },
      "source": [
        "<a href=\"https://colab.research.google.com/github/vimartma/Debugging1/blob/master/practica2.ipynb\" target=\"_parent\"><img src=\"https://colab.research.google.com/assets/colab-badge.svg\" alt=\"Open In Colab\"/></a>"
      ]
    },
    {
      "cell_type": "markdown",
      "metadata": {
        "id": "OgLp1Gtc1s2k"
      },
      "source": [
        "# Práctica 2. Introducción a Python II\n",
        "\n",
        "Objetivos de la práctica:\n",
        "* Seguir aprendiendo el uso de Python.\n",
        "    - Listas por comprensión.\n",
        "    - Uso de ficheros.\n",
        "    - Funciones de orden superior\n",
        "    - Clases.\n",
        "\n",
        "Si estás utilizando Colab para interactuar con estos notebooks, para que los cambios realizados se almacenen en el repositorio debes usar la opción Save a copy in GitHub... del menú File. \n",
        "\n",
        "A lo largo de la práctica se proporcionan una serie de tests para que compruebes tus soluciones. También puedes añadir las celdas que consideres necesarias para comprobar los métodos que definas. "
      ]
    },
    {
      "cell_type": "markdown",
      "metadata": {
        "id": "D71waoUK1s2r"
      },
      "source": [
        "## Ejercicios mínimos (6 puntos)\n",
        "\n",
        "### Ejercicio 1\n",
        "\n",
        "Escribir una función cuadrados que recibiendo una secuencia de números, devuelve la lista de los cuadrados de estos números. Ejemplo. Dada la lista ``[4,1,5.2,3,8]``, la función produce como resultado ``[16, 1, 27.040000000000003, 9, 64]``. Implementa dos versiones: una usando un bucle y otra mediante listas por comprensión."
      ]
    },
    {
      "cell_type": "code",
      "execution_count": 7,
      "metadata": {
        "id": "4O65rYfF1s2v"
      },
      "outputs": [],
      "source": [
        "def cuadrados_bucle(l):\n",
        "    '''\n",
        "    >>> cuadrados_bucle([1,2,3,4])\n",
        "    [1, 4, 9, 16]\n",
        "    >>> cuadrados_bucle([4,1,5.2,3,8]) \n",
        "    [16, 1, 27.040000000000003, 9, 64]\n",
        "    >>> cuadrados_bucle([1, 2, 3, 4, 5])\n",
        "    [1, 4, 9, 16, 25]\n",
        "    '''\n",
        "    i=0\n",
        "    lfin=[]\n",
        "    while(i<len(l)):\n",
        "      lfin.append(l[i]*l[i])\n",
        "      i+=1\n",
        "    return lfin\n",
        "    "
      ]
    },
    {
      "cell_type": "code",
      "execution_count": 9,
      "metadata": {
        "id": "paAPtfRW1s29"
      },
      "outputs": [],
      "source": [
        "def cuadrados_comprension(l):\n",
        "    '''\n",
        "    >>> cuadrados_comprension([1,2,3,4])\n",
        "    [1, 4, 9, 16]\n",
        "    >>> cuadrados_comprension([4,1,5.2,3,8])\n",
        "    [16, 1, 27.040000000000003, 9, 64]\n",
        "    >>> cuadrados_comprension([1, 2, 3, 4, 5])\n",
        "    [1, 4, 9, 16, 25]\n",
        "    '''\n",
        "    return [a*a for a in l]"
      ]
    },
    {
      "cell_type": "markdown",
      "metadata": {
        "id": "rkFL4Evo1s3F"
      },
      "source": [
        "Comprueba los tests."
      ]
    },
    {
      "cell_type": "code",
      "execution_count": 10,
      "metadata": {
        "colab": {
          "base_uri": "https://localhost:8080/"
        },
        "id": "OxmNo6SB1s3H",
        "outputId": "b6352573-c77d-4b16-cbb1-618baec22265"
      },
      "outputs": [
        {
          "output_type": "execute_result",
          "data": {
            "text/plain": [
              "TestResults(failed=0, attempted=6)"
            ]
          },
          "metadata": {},
          "execution_count": 10
        }
      ],
      "source": [
        "import doctest\n",
        "doctest.testmod()"
      ]
    },
    {
      "cell_type": "markdown",
      "metadata": {
        "id": "wxoUuMFn1s3P"
      },
      "source": [
        "A partir de ahora en los siguientes ejercicios deberás usar como técnica principal la definición de listas por comprensión.\n",
        "\n",
        "### Ejercicio 2\n",
        "\n",
        "Dada una lista de números naturales, devuelve la suma de los cuadrados de los números pares de la lista. \n",
        "\n",
        "Pista: busca que hace la función ``sum``."
      ]
    },
    {
      "cell_type": "code",
      "execution_count": 11,
      "metadata": {
        "id": "EZIVut3g1s3Q"
      },
      "outputs": [],
      "source": [
        "def suma_cuadrados(lista):\n",
        "    '''\n",
        "    >>> suma_cuadrados([9,4,2,6,8,1])\n",
        "    120\n",
        "    >>> suma_cuadrados([])\n",
        "    0\n",
        "    >>> suma_cuadrados([9, 4, 6, 8]) \n",
        "    116\n",
        "    '''\n",
        "    return sum([a*a for a in lista if a%2==0])"
      ]
    },
    {
      "cell_type": "markdown",
      "metadata": {
        "id": "vmpahQeC1s3Y"
      },
      "source": [
        "Comprueba los tests."
      ]
    },
    {
      "cell_type": "code",
      "execution_count": 12,
      "metadata": {
        "colab": {
          "base_uri": "https://localhost:8080/"
        },
        "id": "r40lPr7O1s3Z",
        "outputId": "64065196-c072-4f24-ef22-c1fff230b1c9"
      },
      "outputs": [
        {
          "output_type": "execute_result",
          "data": {
            "text/plain": [
              "TestResults(failed=0, attempted=9)"
            ]
          },
          "metadata": {},
          "execution_count": 12
        }
      ],
      "source": [
        "doctest.testmod()"
      ]
    },
    {
      "cell_type": "markdown",
      "metadata": {
        "id": "Cn9opW_b1s3f"
      },
      "source": [
        "### Ejercicio 3\n",
        "\n",
        "Devuelve una lista con los números divisibles por 3 y por 5 entre los números 100 y 500."
      ]
    },
    {
      "cell_type": "code",
      "execution_count": 22,
      "metadata": {
        "id": "gixZyimd1s3h"
      },
      "outputs": [],
      "source": [
        "def entre_100_y_500():\n",
        "    '''\n",
        "    >>> entre_100_y_500()\n",
        "    [105, 120, 135, 150, 165, 180, 195, 210, 225, 240, 255, 270, 285, 300, 315, 330, 345, 360, 375, 390, 405, 420, 435, 450, 465, 480, 495]\n",
        "    '''\n",
        "    return [a for a in range(100,500) if (a%3==0 and a%5==0)]"
      ]
    },
    {
      "cell_type": "markdown",
      "metadata": {
        "id": "yNQVwlp21s3p"
      },
      "source": [
        "Comprueba los tests."
      ]
    },
    {
      "cell_type": "code",
      "execution_count": 23,
      "metadata": {
        "colab": {
          "base_uri": "https://localhost:8080/"
        },
        "id": "fCTHU47Z1s3s",
        "outputId": "976cb746-3d76-44dd-d9ab-21362bf67923"
      },
      "outputs": [
        {
          "output_type": "execute_result",
          "data": {
            "text/plain": [
              "TestResults(failed=0, attempted=10)"
            ]
          },
          "metadata": {},
          "execution_count": 23
        }
      ],
      "source": [
        "doctest.testmod()"
      ]
    },
    {
      "cell_type": "markdown",
      "metadata": {
        "id": "-u46C5Ou1s3w"
      },
      "source": [
        "### Ejercicio 4\n",
        "\n",
        "Dada una lista de números $l=[a(1),...,a(n)]$, calcular el sumatorio $\\sum\\limits_{i=1}^n i \\times a(i)$."
      ]
    },
    {
      "cell_type": "code",
      "execution_count": 31,
      "metadata": {
        "id": "-l-eGloV1s3y"
      },
      "outputs": [],
      "source": [
        "def suma_formula(lista):\n",
        "    '''\n",
        "    >>> suma_formula([2,4,6,8,10])\n",
        "    110\n",
        "    >>> suma_formula([])\n",
        "    0\n",
        "    '''\n",
        "    return sum([i*lista[i-1] for i in range(1,len(lista)+1) if (len(lista)>0)])"
      ]
    },
    {
      "cell_type": "markdown",
      "metadata": {
        "id": "Cu_O1Yu-1s35"
      },
      "source": [
        "Comprueba los tests."
      ]
    },
    {
      "cell_type": "code",
      "execution_count": 32,
      "metadata": {
        "colab": {
          "base_uri": "https://localhost:8080/"
        },
        "id": "XoTG2nEY1s37",
        "outputId": "1967bf58-e051-4186-b3d0-33c76f0f7317"
      },
      "outputs": [
        {
          "output_type": "execute_result",
          "data": {
            "text/plain": [
              "TestResults(failed=0, attempted=12)"
            ]
          },
          "metadata": {},
          "execution_count": 32
        }
      ],
      "source": [
        "doctest.testmod()"
      ]
    },
    {
      "cell_type": "markdown",
      "metadata": {
        "id": "y2ezd-Ex1s4B"
      },
      "source": [
        "### Ejercicio 5\n",
        "\n",
        "Dadas dos listas de la misma longitud, representando dos puntos n-dimensionales, calcular la distancia euclídea entre ellos. \n",
        "\n",
        "Ayuda: puede que necesites importar el módulo ``math``."
      ]
    },
    {
      "cell_type": "code",
      "source": [
        "    import math"
      ],
      "metadata": {
        "id": "DLrv3Eq74Bde"
      },
      "execution_count": 33,
      "outputs": []
    },
    {
      "cell_type": "code",
      "source": [
        "class Punto(object):\n",
        "    # Constructor\n",
        "    def __init__(self,x=0,y=0):\n",
        "        self.x = x\n",
        "        self.y = y\n",
        "      \n",
        "    # Métodos de nuestra clase\n",
        "    def distancia_a_otro_punto(self,other):\n",
        "        return math.hypot(self.x-other.x,self.y-other.x)"
      ],
      "metadata": {
        "id": "vncRbQII4RNU"
      },
      "execution_count": null,
      "outputs": []
    },
    {
      "cell_type": "code",
      "execution_count": 38,
      "metadata": {
        "id": "bE8TmeYy1s4D"
      },
      "outputs": [],
      "source": [
        "def distancia(lista1,lista2):\n",
        "    '''\n",
        "    >>> distancia([3,1,2],[1,2,1])\n",
        "    2.449489742783178\n",
        "    >>> distancia([5,3],[4,2])\n",
        "    1.4142135623730951\n",
        "    >>> distancia([5,3],[5,3])\n",
        "    0.0\n",
        "    '''\n",
        "    return math.sqrt(sum([math.pow(abs(lista1[x]-lista2[x]),2) for x in range(len(lista1))]))"
      ]
    },
    {
      "cell_type": "markdown",
      "metadata": {
        "id": "uKuX4hWm1s4I"
      },
      "source": [
        "Comprueba los tests."
      ]
    },
    {
      "cell_type": "code",
      "execution_count": 39,
      "metadata": {
        "colab": {
          "base_uri": "https://localhost:8080/"
        },
        "id": "EEJgmtfE1s4K",
        "outputId": "f88264c4-d831-4d17-e948-0411f0d182c8"
      },
      "outputs": [
        {
          "output_type": "execute_result",
          "data": {
            "text/plain": [
              "TestResults(failed=0, attempted=15)"
            ]
          },
          "metadata": {},
          "execution_count": 39
        }
      ],
      "source": [
        "doctest.testmod()"
      ]
    },
    {
      "cell_type": "markdown",
      "metadata": {
        "id": "7dD1dMCF1s4Q"
      },
      "source": [
        "### Ejercicio 6\n",
        "\n",
        "Dada una lista y una función que toma un argumento, devolver la lista de los resultados de aplicar la función a cada elemento de la lista.\n",
        "\n",
        "Ejemplo. ``map_mio(abs,[-2,-3,-4,-1])`` devuelve ``[2, 3, 4, 1]``."
      ]
    },
    {
      "cell_type": "code",
      "execution_count": 40,
      "metadata": {
        "id": "NlusXd261s4R"
      },
      "outputs": [],
      "source": [
        "import math\n",
        "\n",
        "def map_mio(fun,lista):\n",
        "    '''\n",
        "    >>> map_mio(abs,[-2,-3,-4,-1])\n",
        "    [2, 3, 4, 1]\n",
        "    >>> map_mio(math.ceil,[-2.4,3.1,-4.7,5.8])\n",
        "    [-2, 4, -4, 6]\n",
        "    >>> map_mio(math.floor, [-2.4, 3.1, -4.7, 5.8])\n",
        "    [-3, 3, -5, 5]\n",
        "    '''\n",
        "    return [fun(a) for a in lista]"
      ]
    },
    {
      "cell_type": "markdown",
      "metadata": {
        "id": "9rNRtP8R1s4W"
      },
      "source": [
        "Comprueba los tests."
      ]
    },
    {
      "cell_type": "code",
      "execution_count": 41,
      "metadata": {
        "colab": {
          "base_uri": "https://localhost:8080/"
        },
        "id": "ysymWXOg1s4X",
        "outputId": "a823ee69-f85e-409c-a322-53e7afa1dfa5"
      },
      "outputs": [
        {
          "output_type": "execute_result",
          "data": {
            "text/plain": [
              "TestResults(failed=0, attempted=18)"
            ]
          },
          "metadata": {},
          "execution_count": 41
        }
      ],
      "source": [
        "doctest.testmod()"
      ]
    },
    {
      "cell_type": "markdown",
      "metadata": {
        "id": "T6ERhyBx1s4c"
      },
      "source": [
        "### Ejercicio 7\n",
        "\n",
        "Dadas un par de listas de la misma longitud y una función que toma dos argumentos, devolver la lista de los resultados de aplicar la función a cada par de elementos que ocupan la misma posición en las listas de entrada.\n",
        "\n",
        "Ejemplo. ``map2_mio((lambda x,y: x+y) ,[1,2,3,4],[5,2,7,9])`` devuelve ``[6, 4, 10, 13]``."
      ]
    },
    {
      "cell_type": "code",
      "execution_count": 42,
      "metadata": {
        "id": "AbPOK9HX1s4e"
      },
      "outputs": [],
      "source": [
        "def map2_mio(fun,lista1,lista2):\n",
        "    '''\n",
        "    >>> map2_mio((lambda x,y: x+y) ,[1,2,3,4],[5,2,7,9])\n",
        "    [6, 4, 10, 13]\n",
        "    >>> map2_mio((lambda x,y: x*y) ,[1,2,3,4],[5,2,7,9])\n",
        "    [5, 4, 21, 36]\n",
        "    '''\n",
        "    return [fun(lista1[i],lista2[i]) for i in range(len(lista1))]"
      ]
    },
    {
      "cell_type": "markdown",
      "metadata": {
        "id": "iRh7kymF1s4j"
      },
      "source": [
        "Comprueba los tests."
      ]
    },
    {
      "cell_type": "code",
      "execution_count": 43,
      "metadata": {
        "colab": {
          "base_uri": "https://localhost:8080/"
        },
        "id": "AjfUtyaR1s4k",
        "outputId": "bfa0ac52-59a7-4cd9-ccfd-c350546bc6e6"
      },
      "outputs": [
        {
          "output_type": "execute_result",
          "data": {
            "text/plain": [
              "TestResults(failed=0, attempted=20)"
            ]
          },
          "metadata": {},
          "execution_count": 43
        }
      ],
      "source": [
        "doctest.testmod()"
      ]
    },
    {
      "cell_type": "markdown",
      "metadata": {
        "id": "5SsWTBUJ1s4r"
      },
      "source": [
        "### Ejercicio 8\n",
        "\n",
        "Dadas dos listas de la misma longitud, contar el número de posiciones en las que coinciden los elementos de ambas  listas."
      ]
    },
    {
      "cell_type": "code",
      "execution_count": 46,
      "metadata": {
        "id": "Dd9kfg_i1s4t"
      },
      "outputs": [],
      "source": [
        "def cuenta_coincidentes(lista1,lista2):\n",
        "    '''\n",
        "    >>> cuenta_coincidentes([4,2,6,8,9,3],[3,2,1,8,9,6])\n",
        "    3\n",
        "    >>> cuenta_coincidentes([5,1,7,9,7,1],[3,2,1,8,9,6])\n",
        "    0\n",
        "    '''\n",
        "    return sum([1 for i in range(len(lista1)) if (lista1[i]==lista2[i])])"
      ]
    },
    {
      "cell_type": "markdown",
      "metadata": {
        "id": "Sqa1vUNY1s4z"
      },
      "source": [
        "Comprueba los tests."
      ]
    },
    {
      "cell_type": "code",
      "execution_count": 47,
      "metadata": {
        "colab": {
          "base_uri": "https://localhost:8080/"
        },
        "id": "q3_9fejl1s40",
        "outputId": "07fc3c10-b8cc-4271-e867-fc7e5a4c576f"
      },
      "outputs": [
        {
          "output_type": "execute_result",
          "data": {
            "text/plain": [
              "TestResults(failed=0, attempted=22)"
            ]
          },
          "metadata": {},
          "execution_count": 47
        }
      ],
      "source": [
        "doctest.testmod()"
      ]
    },
    {
      "cell_type": "markdown",
      "metadata": {
        "id": "O-s37Eyt1s44"
      },
      "source": [
        "### Ejercicio 9\n",
        "\n",
        "Dadas dos listas de la misma longitud, devolver un diccionario que tiene como claves las posiciones en las que coinciden los elementos de ambas listas, y como valor de esas claves, el elemento coincidente."
      ]
    },
    {
      "cell_type": "code",
      "execution_count": 48,
      "metadata": {
        "id": "9bzm97bC1s45"
      },
      "outputs": [],
      "source": [
        "def dic_posiciones_coincidentes(lista1,lista2):\n",
        "    '''\n",
        "    >>> dic_posiciones_coincidentes([4,2,6,8,9,3],[3,2,1,8,9,6])\n",
        "    {1: 2, 3: 8, 4: 9}\n",
        "    >>> dic_posiciones_coincidentes([2,8,1,2,1,3],[1,8,1,2,1,6])\n",
        "    {1: 8, 2: 1, 3: 2, 4: 1}\n",
        "    '''\n",
        "    return {i:lista1[i] for i in range(len(lista1)) if (lista1[i]==lista2[i])}"
      ]
    },
    {
      "cell_type": "markdown",
      "metadata": {
        "id": "umWUrPFt1s4-"
      },
      "source": [
        "Comprueba los tests."
      ]
    },
    {
      "cell_type": "code",
      "execution_count": 49,
      "metadata": {
        "colab": {
          "base_uri": "https://localhost:8080/"
        },
        "id": "pzPUpX8e1s4_",
        "outputId": "5c462cac-bb95-427d-b3e1-aec447049702"
      },
      "outputs": [
        {
          "output_type": "execute_result",
          "data": {
            "text/plain": [
              "TestResults(failed=0, attempted=24)"
            ]
          },
          "metadata": {},
          "execution_count": 49
        }
      ],
      "source": [
        "doctest.testmod()"
      ]
    },
    {
      "cell_type": "markdown",
      "metadata": {
        "id": "IBHSWmsp1s5C"
      },
      "source": [
        "### Ejercicio 10\n",
        "\n",
        "Un número es perfecto si es la suma de todos sus divisores (excepto él mismo). Definir una función ``filtra_perfectos(n,m,p)`` que devuelve una lista con todos los números perfectos entre ``n`` y ``m`` que cumplen la condición ``p``."
      ]
    },
    {
      "cell_type": "code",
      "execution_count": 52,
      "metadata": {
        "id": "K0842Ag21s5D"
      },
      "outputs": [],
      "source": [
        "def filtra_perfectos(n,m,p):\n",
        "    '''\n",
        "    >>> filtra_perfectos(3,500, lambda x: True)\n",
        "    [6, 28, 496]\n",
        "    >>> filtra_perfectos(3, 500, lambda x: (x%7==0))\n",
        "    [28]\n",
        "    '''\n",
        "    return [a for a in range(n,m) if (sum([i for i in range(1,a) if a%i==0])==a and p(a))]"
      ]
    },
    {
      "cell_type": "markdown",
      "metadata": {
        "id": "JXmsJONG1s5G"
      },
      "source": [
        "Comprueba los tests."
      ]
    },
    {
      "cell_type": "code",
      "execution_count": 53,
      "metadata": {
        "colab": {
          "base_uri": "https://localhost:8080/"
        },
        "id": "GGx6icZQ1s5I",
        "outputId": "03885433-6ab6-4d5b-a52d-8beb3d472c5c"
      },
      "outputs": [
        {
          "output_type": "execute_result",
          "data": {
            "text/plain": [
              "TestResults(failed=0, attempted=26)"
            ]
          },
          "metadata": {},
          "execution_count": 53
        }
      ],
      "source": [
        "doctest.testmod()"
      ]
    },
    {
      "cell_type": "markdown",
      "metadata": {
        "id": "vD61iXz61s5M"
      },
      "source": [
        "### Ejercicio 11\n",
        "\n",
        "Define una función que tome como parámetros un fichero, que por defecto será el fichero 'alice.txt' y una palabra, y cuente el número de apariciones de dicha palabra en el texto. El conteo no será sensible a mayúsculas y minúsculas, es decir Alice y alice se consideran la misma palabra. \n",
        "\n",
        "Como primer paso es necesario reemplazar en el texto todas las ocurrencias de los caracteres de la lista ``['\\'', '`', ',', '?', '!', ')', '(', '--', '.', ';',':','\\n','-']`` por un espacio en blanco.\n",
        "\n",
        "Para este ejercicio no es necesario que uses listas por comprensión."
      ]
    },
    {
      "cell_type": "code",
      "execution_count": 99,
      "metadata": {
        "id": "sFJ8BlkE1s5P"
      },
      "outputs": [],
      "source": [
        "def cuenta_palabras(palabra,fichero=\"alice.txt\"):\n",
        "    '''\n",
        "    >>> cuenta_palabras('alice')\n",
        "    399\n",
        "    >>> cuenta_palabras('rabbit')\n",
        "    51\n",
        "    '''\n",
        "    import re\n",
        "    listaCar=['\\'', '`', ',', '?', '!', ')', '(', '--', '.', ';',':','\\n','-']\n",
        "    contador=0\n",
        "    f = open(fichero)\n",
        "    s=f.read()\n",
        "   \n",
        "    for a in listaCar:\n",
        "      for line in s:\n",
        "        line.replace(a, ' ')\n",
        "    \n",
        "    for line in s:\n",
        "      contador += len(re.findall(palabra, line))\n",
        "    return contador\n",
        "      \n",
        "\n",
        "    "
      ]
    },
    {
      "cell_type": "code",
      "source": [
        ""
      ],
      "metadata": {
        "id": "_7qF2q_iCeG6"
      },
      "execution_count": 98,
      "outputs": []
    },
    {
      "cell_type": "markdown",
      "metadata": {
        "id": "eY79VYbz1s5T"
      },
      "source": [
        "Con el siguiente comando se descarga el fichero de ``alice.txt`` desde el repositorio de GitHub."
      ]
    },
    {
      "cell_type": "code",
      "execution_count": 94,
      "metadata": {
        "colab": {
          "base_uri": "https://localhost:8080/"
        },
        "id": "lGN0K06_1s5U",
        "outputId": "14d40d12-df8a-4342-ce77-c7cb035ccd6c"
      },
      "outputs": [
        {
          "output_type": "stream",
          "name": "stdout",
          "text": [
            "--2022-02-28 15:54:34--  https://raw.githubusercontent.com/IA1920/Utils/master/alice.txt\n",
            "Resolving raw.githubusercontent.com (raw.githubusercontent.com)... 185.199.109.133, 185.199.111.133, 185.199.108.133, ...\n",
            "Connecting to raw.githubusercontent.com (raw.githubusercontent.com)|185.199.109.133|:443... connected.\n",
            "HTTP request sent, awaiting response... 200 OK\n",
            "Length: 148575 (145K) [text/plain]\n",
            "Saving to: ‘alice.txt’\n",
            "\n",
            "\ralice.txt             0%[                    ]       0  --.-KB/s               \ralice.txt           100%[===================>] 145.09K  --.-KB/s    in 0.02s   \n",
            "\n",
            "2022-02-28 15:54:34 (6.37 MB/s) - ‘alice.txt’ saved [148575/148575]\n",
            "\n"
          ]
        }
      ],
      "source": [
        "!wget https://raw.githubusercontent.com/IA1920/Utils/master/alice.txt"
      ]
    },
    {
      "cell_type": "markdown",
      "metadata": {
        "id": "BqxCNQJs1s5X"
      },
      "source": [
        "Comprueba los tests."
      ]
    },
    {
      "cell_type": "code",
      "execution_count": 100,
      "metadata": {
        "colab": {
          "base_uri": "https://localhost:8080/"
        },
        "id": "B66MJViz1s5Z",
        "outputId": "6a83d6d5-742c-4499-993e-878898061b2e"
      },
      "outputs": [
        {
          "output_type": "stream",
          "name": "stdout",
          "text": [
            "**********************************************************************\n",
            "File \"__main__\", line 3, in __main__.cuenta_palabras\n",
            "Failed example:\n",
            "    cuenta_palabras('alice')\n",
            "Expected:\n",
            "    399\n",
            "Got:\n",
            "    0\n",
            "**********************************************************************\n",
            "File \"__main__\", line 5, in __main__.cuenta_palabras\n",
            "Failed example:\n",
            "    cuenta_palabras('rabbit')\n",
            "Expected:\n",
            "    51\n",
            "Got:\n",
            "    0\n",
            "**********************************************************************\n",
            "1 items had failures:\n",
            "   2 of   2 in __main__.cuenta_palabras\n",
            "***Test Failed*** 2 failures.\n"
          ]
        },
        {
          "output_type": "execute_result",
          "data": {
            "text/plain": [
              "TestResults(failed=2, attempted=28)"
            ]
          },
          "metadata": {},
          "execution_count": 100
        }
      ],
      "source": [
        "doctest.testmod()"
      ]
    },
    {
      "cell_type": "markdown",
      "metadata": {
        "id": "xD9hRwvr1s5c"
      },
      "source": [
        "### Ejercicio 12\n",
        "\n",
        "Define una clase Rectangulo que toma como parámetros del constructor la tupla ``(x,y)``, que indican la posición de la esquina superior izquierda, y dos reales ``w`` y ``h`` que proporcionan respectivamente la anchura y la altura del rectángulo. La clase ``Rectangulo`` debe implementar los métodos: area, perimetro y redefinir el método ``__eq__`` de la clase object."
      ]
    },
    {
      "cell_type": "code",
      "execution_count": null,
      "metadata": {
        "id": "Xk-Pjka91s5d"
      },
      "outputs": [],
      "source": [
        "class Rectangulo(object):\n",
        "    pass"
      ]
    },
    {
      "cell_type": "markdown",
      "metadata": {
        "id": "cgIsyxx31s5h"
      },
      "source": [
        "Comprueba los tests. Si al ejecutar la siguiente celda no se muestra nada, eso significa que se pasan los tests."
      ]
    },
    {
      "cell_type": "code",
      "execution_count": null,
      "metadata": {
        "id": "B8ZJdHQU1s5i"
      },
      "outputs": [],
      "source": [
        "r1 = Rectangulo((0,0),5,5)\n",
        "r2 = Rectangulo((0, 0), 5, 10)\n",
        "assert(r1.area() == 25)\n",
        "assert(r1.perimetro() == 20)\n",
        "assert(not(r1 ==r2))"
      ]
    },
    {
      "cell_type": "markdown",
      "metadata": {
        "id": "dFyvr0pf1s5m"
      },
      "source": [
        "## Ejercicios de ampliación I (1.5 puntos)\n",
        "\n"
      ]
    },
    {
      "cell_type": "markdown",
      "metadata": {
        "id": "orx1E3C_1s5o"
      },
      "source": [
        "En los siguientes ejercicios debes utilizar listas por comprensión. \n",
        "\n",
        "### Ejercicio 13\n",
        "\n",
        "Define una función que cree un diccionario a partir de un string donde las claves del diccionario sean las letras\n",
        "del alfabeto, y el valor para cada una de esas claves es el número de ocurrencias de esa letra en el string sin \n",
        "distinguir entre mayúsculas y minúsculas."
      ]
    },
    {
      "cell_type": "code",
      "execution_count": null,
      "metadata": {
        "id": "O-wxChOO1s5o"
      },
      "outputs": [],
      "source": [
        "def crear_diccionario_de_string(s):\n",
        "    pass"
      ]
    },
    {
      "cell_type": "markdown",
      "metadata": {
        "id": "f2UL6x1E1s5s"
      },
      "source": [
        "Comprueba los tests."
      ]
    },
    {
      "cell_type": "code",
      "execution_count": null,
      "metadata": {
        "id": "Zd8CFKeQ1s5t"
      },
      "outputs": [],
      "source": [
        "dic2=crear_diccionario_de_string(\"hola adios\")\n",
        "assert(dic2['a'] == 2)\n",
        "assert(dic2['b'] == 0)\n",
        "assert(dic2['h'] == 1)\n",
        "assert(dic2['o'] == 2)\n",
        "assert(dic2['l'] == 1)\n",
        "assert(dic2['z'] == 0)"
      ]
    },
    {
      "cell_type": "markdown",
      "metadata": {
        "id": "gUiaKTUh1s5w"
      },
      "source": [
        "### Ejercicio 14\n",
        "\n",
        "Define una función por comprensión que devuelve el número de apariciones de un elemento x en la lista l."
      ]
    },
    {
      "cell_type": "code",
      "execution_count": null,
      "metadata": {
        "id": "iJHrZlKJ1s5x"
      },
      "outputs": [],
      "source": [
        "def incidencias(x,l):\n",
        "    '''\n",
        "    >>> incidencias(0,[])\n",
        "    0\n",
        "    >>> incidencias(0, [0,1,0,10,0])\n",
        "    3\n",
        "    >>> incidencias(1, [0, 1, 0, 10, 0])\n",
        "    1\n",
        "    >>> incidencias(10, [0, 1, 0, 10, 0])\n",
        "    1\n",
        "    '''\n",
        "    pass"
      ]
    },
    {
      "cell_type": "markdown",
      "metadata": {
        "id": "f3MJEx_I1s50"
      },
      "source": [
        "Comprueba los tests. "
      ]
    },
    {
      "cell_type": "code",
      "execution_count": null,
      "metadata": {
        "id": "Tt84Ka3U1s51"
      },
      "outputs": [],
      "source": [
        "doctest.testmod()"
      ]
    },
    {
      "cell_type": "markdown",
      "metadata": {
        "id": "Och14nQ01s54"
      },
      "source": [
        "### Ejercicio 15\n",
        "\n",
        "Define una función por comprensión que devuelve verdad si todos los elementos de una lista son pares y falso en caso contrario. En caso de que la lista este vacía, devolverá verdad."
      ]
    },
    {
      "cell_type": "code",
      "execution_count": null,
      "metadata": {
        "id": "wx3DhTFm1s55"
      },
      "outputs": [],
      "source": [
        "def todos_pares(l):\n",
        "    '''\n",
        "    >>> todos_pares([])\n",
        "    True\n",
        "    >>> todos_pares([1])\n",
        "    False\n",
        "    >>> todos_pares([2,4,6,8,10,1])\n",
        "    False\n",
        "    >>> todos_pares([2, 4, 6, 8, 10])\n",
        "    True\n",
        "    '''\n",
        "    pass"
      ]
    },
    {
      "cell_type": "markdown",
      "metadata": {
        "id": "Y5SZkx5K1s6C"
      },
      "source": [
        "Comprueba los tests."
      ]
    },
    {
      "cell_type": "code",
      "execution_count": null,
      "metadata": {
        "id": "rU4HnkZ81s6C"
      },
      "outputs": [],
      "source": [
        "doctest.testmod()"
      ]
    },
    {
      "cell_type": "markdown",
      "metadata": {
        "id": "FWNPvl0G1s6G"
      },
      "source": [
        "### Ejercicio 16\n",
        "\n",
        "Define una función por comprensión que devuelve verdad si algún elemento de una lista es impar y falso\n",
        "en caso contrario. En caso de que la lista este vacía, devolverá falso."
      ]
    },
    {
      "cell_type": "code",
      "execution_count": null,
      "metadata": {
        "id": "XO_BGLTk1s6G"
      },
      "outputs": [],
      "source": [
        "def algun_impar(l):\n",
        "    '''\n",
        "    >>> algun_impar([])\n",
        "    False\n",
        "    >>> algun_impar([1])\n",
        "    True\n",
        "    >>> algun_impar([2,4,6,8,10,1])\n",
        "    True\n",
        "    >>> algun_impar([2, 4, 6, 8, 10])\n",
        "    False\n",
        "    '''\n",
        "    pass"
      ]
    },
    {
      "cell_type": "markdown",
      "metadata": {
        "id": "GtQlkVDn1s6N"
      },
      "source": [
        "Comprueba los tests."
      ]
    },
    {
      "cell_type": "code",
      "execution_count": null,
      "metadata": {
        "id": "glXYH3hm1s6O"
      },
      "outputs": [],
      "source": [
        "doctest.testmod()"
      ]
    },
    {
      "cell_type": "markdown",
      "metadata": {
        "id": "jz6oxDBY1s6Y"
      },
      "source": [
        "## Ejercicios de ampliación II (2 puntos)\n",
        "\n",
        "Retomamos nuestro ejemplo del código genético visto en la práctica 1.\n",
        "\n",
        "Recupera el método que dada una secuencia de ADN (un string) que contiene las letras A, C, G, y T  nos devuelve cuántas veces aparece una cierta base en dicha secuencia."
      ]
    },
    {
      "cell_type": "code",
      "execution_count": null,
      "metadata": {
        "id": "-lh1ztjV1s6Z"
      },
      "outputs": [],
      "source": [
        "def cuenta(adn, base):\n",
        "    '''\n",
        "    >>> cuenta('ATGGCATTA', 'A')\n",
        "    3\n",
        "    >>> cuenta('ATGGCATTA', 'T')\n",
        "    3\n",
        "    >>> cuenta('ATGGCATTA', 'G')\n",
        "    2\n",
        "    >>> cuenta('ATGGCATTA', 'C') \n",
        "    1\n",
        "    >>> cuenta('ATGGCATTA', 'D')\n",
        "    0\n",
        "    >>> cuenta('', 'C') \n",
        "    0\n",
        "    >>> cuenta('AAATTTGGGCCCCGTA', 'A')\n",
        "    4\n",
        "    >>> cuenta('AAATTTGGGCCCCGTA', 'C')\n",
        "    4\n",
        "    >>> cuenta('AAATTTGGGCCCCGTA', 'G')\n",
        "    4\n",
        "    >>> cuenta('AAATTTGGGCCCCGTA', 'T')\n",
        "    4\n",
        "    '''\n",
        "    pass"
      ]
    },
    {
      "cell_type": "markdown",
      "metadata": {
        "id": "Uxf52UGk1s6c"
      },
      "source": [
        "Comprueba los tests."
      ]
    },
    {
      "cell_type": "code",
      "execution_count": null,
      "metadata": {
        "id": "xIlYDW5B1s6d"
      },
      "outputs": [],
      "source": [
        "doctest.testmod()"
      ]
    },
    {
      "cell_type": "markdown",
      "metadata": {
        "id": "FhQ98gAw1s6g"
      },
      "source": [
        "Define una función con un comportamiento análogo al anterior pero utilizando listas por comprensión."
      ]
    },
    {
      "cell_type": "code",
      "execution_count": null,
      "metadata": {
        "id": "TtfS6dV61s6h"
      },
      "outputs": [],
      "source": [
        "def cuenta_comprension(adn, base):\n",
        "    '''\n",
        "    >>> cuenta_comprension('ATGGCATTA', 'A')\n",
        "    3\n",
        "    >>> cuenta_comprension('ATGGCATTA', 'T')\n",
        "    3\n",
        "    >>> cuenta_comprension('ATGGCATTA', 'G')\n",
        "    2\n",
        "    >>> cuenta_comprension('ATGGCATTA', 'C') \n",
        "    1\n",
        "    >>> cuenta_comprension('ATGGCATTA', 'D')\n",
        "    0\n",
        "    >>> cuenta_comprension('', 'C') \n",
        "    0\n",
        "    >>> cuenta_comprension('AAATTTGGGCCCCGTA', 'A')\n",
        "    4\n",
        "    >>> cuenta_comprension('AAATTTGGGCCCCGTA', 'C')\n",
        "    4\n",
        "    >>> cuenta_comprension('AAATTTGGGCCCCGTA', 'G')\n",
        "    4\n",
        "    >>> cuenta_comprension('AAATTTGGGCCCCGTA', 'T')\n",
        "    4\n",
        "    '''\n",
        "    pass"
      ]
    },
    {
      "cell_type": "markdown",
      "metadata": {
        "id": "KfxVEBTG1s6k"
      },
      "source": [
        "Comprueba los tests."
      ]
    },
    {
      "cell_type": "code",
      "execution_count": null,
      "metadata": {
        "id": "O0pODR2p1s6l"
      },
      "outputs": [],
      "source": [
        "doctest.testmod()"
      ]
    },
    {
      "cell_type": "markdown",
      "metadata": {
        "id": "KlkG1Gjn1s6n"
      },
      "source": [
        "A continuación vamos a comparar la eficiencia de estos dos métodos. Para ello lo primero que debes hacer es recuperar el método que genera secuencias aleatorias de ADN."
      ]
    },
    {
      "cell_type": "code",
      "execution_count": null,
      "metadata": {
        "id": "SdDhYx0x1s6o"
      },
      "outputs": [],
      "source": [
        "def genera_adn(tam):\n",
        "    pass"
      ]
    },
    {
      "cell_type": "markdown",
      "metadata": {
        "id": "Fxc5lmWF1s6s"
      },
      "source": [
        "Para medir el tiempo que le cuesta ejecutarse a un programa puedes utilizar la [celda mágica](https://ipython.readthedocs.io/en/stable/interactive/magics.html) ``timeit`` del siguiente modo. "
      ]
    },
    {
      "cell_type": "code",
      "execution_count": null,
      "metadata": {
        "id": "Q_TYVqad1s6s"
      },
      "outputs": [],
      "source": [
        "%%timeit\n",
        "3+2"
      ]
    },
    {
      "cell_type": "markdown",
      "metadata": {
        "id": "Vmlp4vGq1s6v"
      },
      "source": [
        "Genera una secuencia aleatoria de adn de 10000000 de componentes y compara el tiempo de ejecución de los dos métodos cuenta. ¿Cuál es más rápido?"
      ]
    },
    {
      "cell_type": "code",
      "execution_count": null,
      "metadata": {
        "id": "v5NcxAgB1s6w"
      },
      "outputs": [],
      "source": [
        ""
      ]
    },
    {
      "cell_type": "code",
      "execution_count": null,
      "metadata": {
        "id": "osSV9DZE1s60"
      },
      "outputs": [],
      "source": [
        ""
      ]
    },
    {
      "cell_type": "markdown",
      "metadata": {
        "id": "wWty9qAd1s62"
      },
      "source": [
        "Recuperamos ahora el ejercicio que calcular la frecuencia en la que aparece cada letra en cada posición de una lista de secuencias (todas las secuencias de la lista tienen el mismo número de elementos).\n",
        "\n",
        "El resultado en este caso será un diccionario en lugar de una tupla de listas. Por ejemplo, dada la lista de secuencias ``['ATGACT', 'AACTGT', 'GGCTAT']`` el resultado sería el diccionario: ``{'A' : [2,1,0,1,1,0], 'C':[0,0,2,0,1,0], 'G':[1,1,1,0,1,0], 'T':[0,1,0,1,0,3]}``."
      ]
    },
    {
      "cell_type": "code",
      "execution_count": null,
      "metadata": {
        "id": "Lr8Ylf9t1s63"
      },
      "outputs": [],
      "source": [
        "def frecuencias_dic(lista_adns):\n",
        "    pass"
      ]
    },
    {
      "cell_type": "markdown",
      "metadata": {
        "id": "InzwBaUn1s6-"
      },
      "source": [
        "Comprueba los tests."
      ]
    },
    {
      "cell_type": "code",
      "execution_count": null,
      "metadata": {
        "id": "1gkzvRQ71s6_"
      },
      "outputs": [],
      "source": [
        "assert(frecuencias_dic(['ATGACT', 'AACTGT', 'GGCTAT'])['A'] == [2, 1, 0, 1, 1, 0])\n",
        "assert(frecuencias_dic(['ATGACT', 'AACTGT', 'GGCTAT'])['C'] == [0, 0, 2, 0, 1, 0])\n",
        "assert(frecuencias_dic(['ATGACT', 'AACTGT', 'GGCTAT'])['G'] == [1, 1, 1, 0, 1, 0])\n",
        "assert(frecuencias_dic(['ATGACT', 'AACTGT', 'GGCTAT'])['T'] == [0, 1, 0, 2, 0, 3])\n",
        "assert(frecuencias_dic(['GGGAGATGAT', 'TTTCCGATTA', 'AAGCACCGTC', 'TGATTAACGA', 'CTGACGGGTG', 'CGTTGGCATA', 'GCCTCTGCGA', 'ATCTACTGCG', 'AGTAACCTCC', 'CGGCTAAGGC'])['A'] ==\n",
        "                [3, 1, 1, 3, 3, 3, 3, 1, 1, 4])\n",
        "assert(frecuencias_dic(\n",
        "                ['GGGAGATGAT', 'TTTCCGATTA', 'AAGCACCGTC', 'TGATTAACGA', 'CTGACGGGTG', 'CGTTGGCATA', 'GCCTCTGCGA',\n",
        "                 'ATCTACTGCG', 'AGTAACCTCC', 'CGGCTAAGGC'])['C']  == [3, 1, 2, 3, 3, 3, 3, 2, 2, 3])\n",
        "assert(frecuencias_dic(\n",
        "                ['GGGAGATGAT', 'TTTCCGATTA', 'AAGCACCGTC', 'TGATTAACGA', 'CTGACGGGTG', 'CGTTGGCATA', 'GCCTCTGCGA',\n",
        "                 'ATCTACTGCG', 'AGTAACCTCC', 'CGGCTAAGGC'])['G']  ==\n",
        "                                      [2, 5, 4, 0, 2, 3, 2, 5, 3, 2])\n",
        "assert(frecuencias_dic(\n",
        "                ['GGGAGATGAT', 'TTTCCGATTA', 'AAGCACCGTC', 'TGATTAACGA', 'CTGACGGGTG', 'CGTTGGCATA', 'GCCTCTGCGA',\n",
        "                 'ATCTACTGCG', 'AGTAACCTCC', 'CGGCTAAGGC'])['T']  == [2, 3, 3, 4, 2, 1, 2, 2, 4, 1])"
      ]
    },
    {
      "cell_type": "markdown",
      "metadata": {
        "id": "9lBmGs_s1s7C"
      },
      "source": [
        "A continuación vamos a ver cómo descargar un fichero que contiene un mapeo de códigos genéticos a aminoácidos, y procesar dicho fichero.\n",
        "\n",
        "El formato del fichero se parece a lo siguiente:\n",
        "\n",
        "| Código | Aminoácido (1 letra)  | Aminoácido (3 letras)  | Aminoácido (nombre completo) |\n",
        "|-------|-------|-------|-------|\n",
        "| UUU   |  F |      Phe |    Phenylalanine |\n",
        "| UUC   |  F |      Phe |    Phenylalanine |\n",
        "| UUA   |  L |      Leu |    Leucine |\n",
        "| UUG   |  L |      Leu |    Leucine |\n",
        "| CUU   |  L |      Leu |    Leucine |\n",
        "| CUC   |  L |      Leu |    Leucine |\n",
        "| CUA   |  L |      Leu |    Leucine |\n",
        "| CUG   |  L |      Leu |    Leucine |\n",
        "| AUU   |  I |      Ile |    Isoleucine |\n",
        "| AUC   |  I |      Ile |    Isoleucine |\n",
        "| AUA   |  I |      Ile |    Isoleucine |\n",
        "| AUG   |  M |      Met |    Methionine (Start)|\n",
        "\n",
        "Define una función descarga que dada una urlbase y un nombre de fichero descargue el fichero y lo almacene con el mismo nombre. Por ejemplo, si queremos descargar el fichero almacenado en: http://hplgit.github.io/bioinf-py/data/genetic_code.tsv deberíamos invocar a la función: ``descarga('http://hplgit.github.io/bioinf-py/data/','genetic_code.tsv')`` y deberíamos almacenar el fichero con el nombre ``genetic_code.tsv``. Si ya existe un fichero con ese nombre, el método debe lanzar una excepción.\n",
        "\n",
        "Pistas:\n",
        "- Para comprobar si un fichero existe, puedes utilizar alguno de los métodos de [os.path](https://docs.python.org/3/library/os.path.html).\n",
        "- Para descargar un fichero de una url puedes usar la librería [urllib](https://docs.python.org/3/library/urllib.html) y el método ``urlretrieve``."
      ]
    },
    {
      "cell_type": "code",
      "execution_count": null,
      "metadata": {
        "id": "xxd6GnTY1s7D"
      },
      "outputs": [],
      "source": [
        "def descarga(urlbase,filename):\n",
        "    pass"
      ]
    },
    {
      "cell_type": "markdown",
      "metadata": {
        "id": "Wgfp0k4y1s7F"
      },
      "source": [
        "Por último definimos una función que dado un nombre de fichero que contenta el mapéo de códigos genéticos a aminoácidos, cree un diccionario que para cada código genético almacene su nombre completo."
      ]
    },
    {
      "cell_type": "code",
      "execution_count": null,
      "metadata": {
        "id": "AUc10gLU1s7G"
      },
      "outputs": [],
      "source": [
        "def codigos_to_aminoacidos(filename):\n",
        "    pass"
      ]
    },
    {
      "cell_type": "markdown",
      "metadata": {
        "id": "8gChGoui1s7J"
      },
      "source": [
        "Comprueba los tests."
      ]
    },
    {
      "cell_type": "code",
      "execution_count": null,
      "metadata": {
        "id": "fH5Kt-fFqAxF"
      },
      "outputs": [],
      "source": [
        "!pip install nose"
      ]
    },
    {
      "cell_type": "code",
      "execution_count": null,
      "metadata": {
        "id": "YH4UwORG1s7J"
      },
      "outputs": [],
      "source": [
        "import os\n",
        "from nose.tools import assert_raises\n",
        "\n",
        "if os.path.exists('genetic_code.tsv'):\n",
        "    os.remove('genetic_code.tsv')\n",
        "\n",
        "descarga('http://hplgit.github.io/bioinf-py/data/', 'genetic_code.tsv')\n",
        "assert(os.path.exists('genetic_code.tsv'))\n",
        "\n",
        "assert_raises(Exception, descarga, 'http://hplgit.github.io/bioinf-py/data/', 'genetic_code.tsv')\n",
        "            \n",
        "diccionario = codigos_to_aminoacidos('genetic_code.tsv')\n",
        "assert(diccionario['CAA']=='Glutamine')\n",
        "assert(diccionario['GAC']=='Aspartic acid')\n",
        "assert(diccionario['GGC']=='Glycine')\n",
        "assert(diccionario['CGU']=='Arginine')"
      ]
    },
    {
      "cell_type": "markdown",
      "metadata": {
        "id": "Q_EX5Ihm1s7N"
      },
      "source": [
        "## Ejercicio de ampliación III (0.5 puntos)\n",
        "\n",
        "Añade todos los tipos de entrada y salida de las funciones definidas en la práctica. Comprueba utilizando lo explicado en la práctica 1 que los tipos proporcionados son correctos. "
      ]
    },
    {
      "cell_type": "markdown",
      "metadata": {
        "id": "njqjvrWZ1s7N"
      },
      "source": [
        "## Entrega\n",
        "\n",
        "Recuerda guardar este notebook con tus soluciones en tu repositorio."
      ]
    }
  ],
  "metadata": {
    "colab": {
      "name": "practica2.ipynb",
      "provenance": [],
      "include_colab_link": true
    },
    "kernelspec": {
      "display_name": "Python 3",
      "language": "python",
      "name": "python3"
    },
    "language_info": {
      "codemirror_mode": {
        "name": "ipython",
        "version": 3
      },
      "file_extension": ".py",
      "mimetype": "text/x-python",
      "name": "python",
      "nbconvert_exporter": "python",
      "pygments_lexer": "ipython3",
      "version": "3.6.8"
    }
  },
  "nbformat": 4,
  "nbformat_minor": 0
}